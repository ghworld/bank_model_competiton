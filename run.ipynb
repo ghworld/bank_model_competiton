{
 "cells": [
  {
   "cell_type": "code",
   "execution_count": 3,
   "id": "cd497e0f",
   "metadata": {},
   "outputs": [
    {
     "name": "stdout",
     "output_type": "stream",
     "text": [
      "/d/GH/GitWorkSpace/bank_model_competiton\n",
      "0825_lgb_base_cv_v0.1.csv\n",
      "0825_lgb_base_cv_v0.2.csv\n",
      "0825_lgb_base_cv_v0.3.csv\n",
      "data_eda.py\n",
      "model.ipynb\n",
      "model_stacking.ipynb\n",
      "process.ipynb\n",
      "process.py\n",
      "run.ipynb\n",
      "test.dat\n",
      "testaa\n",
      "testaa.csv\n",
      "testaa_bank_statement.csv\n",
      "testaa_submit_example.csv\n",
      "train\n",
      "train.csv\n",
      "train.dat\n",
      "train_bank_statement.csv\n",
      "~$姣旇禌瀛楁�佃В閲�.xlsx\n",
      "鍒濊禌A姒滄暟鎹�闆�\n",
      "鏁版嵁鎺㈡煡.ipynb\n",
      "姣旇禌瀛楁�佃В閲�.xlsx\n"
     ]
    },
    {
     "ename": "NameError",
     "evalue": "name 'date' is not defined",
     "output_type": "error",
     "traceback": [
      "\u001b[1;31m---------------------------------------------------------------------------\u001b[0m",
      "\u001b[1;31mNameError\u001b[0m                                 Traceback (most recent call last)",
      "\u001b[1;32m~\\AppData\\Local\\Temp\\ipykernel_23676\\1148467088.py\u001b[0m in \u001b[0;36m<module>\u001b[1;34m\u001b[0m\n\u001b[0;32m      2\u001b[0m \u001b[0mget_ipython\u001b[0m\u001b[1;33m(\u001b[0m\u001b[1;33m)\u001b[0m\u001b[1;33m.\u001b[0m\u001b[0msystem\u001b[0m\u001b[1;33m(\u001b[0m\u001b[1;34m'ls'\u001b[0m\u001b[1;33m)\u001b[0m\u001b[1;33m\u001b[0m\u001b[1;33m\u001b[0m\u001b[0m\n\u001b[0;32m      3\u001b[0m \u001b[1;33m\u001b[0m\u001b[0m\n\u001b[1;32m----> 4\u001b[1;33m \u001b[0mdate\u001b[0m\u001b[1;33m\u001b[0m\u001b[1;33m\u001b[0m\u001b[0m\n\u001b[0m",
      "\u001b[1;31mNameError\u001b[0m: name 'date' is not defined"
     ]
    }
   ],
   "source": [
    "!pwd\n",
    "!ls"
   ]
  }
 ],
 "metadata": {
  "kernelspec": {
   "display_name": "Python 3 (ipykernel)",
   "language": "python",
   "name": "python3"
  },
  "language_info": {
   "codemirror_mode": {
    "name": "ipython",
    "version": 3
   },
   "file_extension": ".py",
   "mimetype": "text/x-python",
   "name": "python",
   "nbconvert_exporter": "python",
   "pygments_lexer": "ipython3",
   "version": "3.7.5"
  }
 },
 "nbformat": 4,
 "nbformat_minor": 5
}
